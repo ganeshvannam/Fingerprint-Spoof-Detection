{
  "cells": [
    {
      "cell_type": "markdown",
      "metadata": {
        "id": "view-in-github",
        "colab_type": "text"
      },
      "source": [
        "<a href=\"https://colab.research.google.com/github/ganeshvannam/Fingerprint-Spoof-Detection/blob/main/hog_lbp_svm_fingerprint_spoofing.ipynb\" target=\"_parent\"><img src=\"https://colab.research.google.com/assets/colab-badge.svg\" alt=\"Open In Colab\"/></a>"
      ]
    },
    {
      "cell_type": "code",
      "execution_count": 1,
      "metadata": {
        "scrolled": true,
        "id": "q-qDmIXvvE4f"
      },
      "outputs": [],
      "source": [
        "import matplotlib.pyplot as plt\n",
        "from skimage.io import imread\n",
        "from skimage.feature import hog,local_binary_pattern\n",
        "import glob\n",
        "import numpy as np\n",
        "from sklearn import svm\n",
        "from skimage import feature\n",
        "from sklearn.metrics import classification_report\n",
        "from skimage.color import rgb2gray"
      ]
    },
    {
      "cell_type": "code",
      "execution_count": 2,
      "metadata": {
        "id": "b5EnPC4DvE4g"
      },
      "outputs": [],
      "source": [
        "# import training data\n",
        "live_train = glob.glob('data/train_live/*.png') #positive\n",
        "spoof_train = glob.glob('data/train_spoof/*.png') # negative\n",
        "\n",
        "# import testing data\n",
        "live_test = glob.glob('data/test_live/*.png') # positive\n",
        "spoof_test = glob.glob('data/test_spoof/*.png') # negative"
      ]
    },
    {
      "cell_type": "code",
      "execution_count": 3,
      "metadata": {
        "id": "1I1y0h02vE4g"
      },
      "outputs": [],
      "source": [
        "# initialize empty lists to append data\n",
        "live_train_images = []\n",
        "spoof_train_images = []\n",
        "live_test_images = []\n",
        "spoof_test_images = []\n",
        "\n",
        "# read images from given path and append to the variavles\n",
        "for path in live_train: live_train_images.append(imread(path))\n",
        "for path in spoof_train: spoof_train_images.append(imread(path))\n",
        "for path in live_test: live_test_images.append(imread(path))\n",
        "for path in spoof_test: spoof_test_images.append(imread(path))"
      ]
    },
    {
      "cell_type": "code",
      "execution_count": 4,
      "metadata": {
        "id": "rR8Z_4j7vE4g"
      },
      "outputs": [],
      "source": [
        "# convert images to np arrays\n",
        "live_train_images, spoof_train_images = np.asarray(live_train_images), np.asarray(spoof_train_images)\n",
        "live_test_images, spoof_test_images = np.asarray(live_test_images), np.asarray(spoof_test_images)"
      ]
    },
    {
      "cell_type": "code",
      "execution_count": 5,
      "metadata": {
        "id": "jiEmAlpKvE4g"
      },
      "outputs": [],
      "source": [
        "# change the type of feature you want to use here\n",
        "feature_type = \"lbp\" #hog or lbp\n",
        "\n",
        "# initialize empty lists to append features\n",
        "live_train_features, spoof_train_features = [], []\n",
        "live_test_features, spoof_test_features = [], []\n",
        "\n",
        "if(feature_type == \"hog\"):\n",
        "\n",
        "    # calculate and store hog features of training data\n",
        "    for live_img, spoof_img in zip(live_train_images, spoof_train_images):\n",
        "        live_train_features.append(hog(live_img, feature_vector = True))\n",
        "        spoof_train_features.append(hog(spoof_img, feature_vector = True))\n",
        "\n",
        "    # calculate and store hog features of testing data\n",
        "    for live_img, spoof_img in zip(live_test_images, spoof_test_images):\n",
        "        live_test_features.append(hog(live_img, feature_vector = True))\n",
        "        spoof_test_features.append(hog(spoof_img, feature_vector = True))\n",
        "\n",
        "if(feature_type == \"lbp\"):\n",
        "\n",
        "# parameters copied from scikit docs of lbp\n",
        "    METHOD = 'uniform'\n",
        "    R = 3\n",
        "    P = 8 * R\n",
        "\n",
        "    # calculate and store lbp features of training data\n",
        "    for live_img, spoof_img in zip(live_train_images, spoof_train_images):\n",
        "        live_img = rgb2gray(live_img)\n",
        "        spoof_img = rgb2gray(spoof_img)\n",
        "        live_train_features.append(local_binary_pattern(live_img, P, R, METHOD).flatten())\n",
        "        spoof_train_features.append(local_binary_pattern(spoof_img, P, R, METHOD).flatten())\n",
        "\n",
        "    # calculate and store lbp features of training data\n",
        "    for live_img, spoof_img in zip(live_test_images, spoof_test_images):\n",
        "        # convert rgb to gray\n",
        "        live_img = rgb2gray(live_img)\n",
        "        # convert rgb to gray\n",
        "        spoof_img = rgb2gray(spoof_img)\n",
        "        live_test_features.append(local_binary_pattern(live_img, P, R, METHOD).flatten())\n",
        "        spoof_test_features.append(local_binary_pattern(spoof_img, P, R, METHOD).flatten())"
      ]
    },
    {
      "cell_type": "code",
      "execution_count": 6,
      "metadata": {
        "id": "Ok5WO8oYvE4h"
      },
      "outputs": [],
      "source": [
        "# define labels 1 for live and 0 for spoof\n",
        "# i.e. create a list of 200 1's and 200 0's\n",
        "labels_train = [[1]]*len(live_train_features) + [[0]]*len(spoof_train_features)\n",
        "\n",
        "# merge both positive and negative training data\n",
        "full_train = live_train_features + spoof_train_features\n",
        "\n",
        "# assign labels for all test data, 1 for positive, 0 for negative\n",
        "labels_test = [[1]]*len(live_test_features) + [[0]]*len(spoof_test_features)\n",
        "\n",
        "# merge both positive and negative training data\n",
        "full_test = live_test_features + spoof_test_features\n"
      ]
    },
    {
      "cell_type": "code",
      "execution_count": 7,
      "metadata": {
        "colab": {
          "base_uri": "https://localhost:8080/"
        },
        "id": "xjmcQX1IvE4h",
        "outputId": "7ee5d3bc-8abd-47e8-81fc-b443a1d5408b"
      },
      "outputs": [
        {
          "output_type": "execute_result",
          "data": {
            "text/plain": [
              "0"
            ]
          },
          "metadata": {},
          "execution_count": 7
        }
      ],
      "source": [
        "len(labels_train)"
      ]
    },
    {
      "cell_type": "code",
      "execution_count": 9,
      "metadata": {
        "id": "2BlIE7mkvE4h"
      },
      "outputs": [],
      "source": [
        "clf = svm.SVC()\n",
        "features_train = np.array(full_train)\n",
        "features_test = np.array(full_test)\n",
        "\n",
        "# stack features and labels together\n",
        "data_frame_train = np.hstack((features_train,labels_train))\n",
        "\n",
        "# shuffle train data\n",
        "np.random.shuffle(data_frame_train)"
      ]
    },
    {
      "cell_type": "code",
      "execution_count": 11,
      "metadata": {
        "colab": {
          "base_uri": "https://localhost:8080/",
          "height": 211
        },
        "id": "MOQP5HhQvE4i",
        "outputId": "84023e7b-bc05-45ce-dd80-e8911d51777c"
      },
      "outputs": [
        {
          "output_type": "error",
          "ename": "IndexError",
          "evalue": "too many indices for array: array is 1-dimensional, but 2 were indexed",
          "traceback": [
            "\u001b[0;31m---------------------------------------------------------------------------\u001b[0m",
            "\u001b[0;31mIndexError\u001b[0m                                Traceback (most recent call last)",
            "\u001b[0;32m<ipython-input-11-8e45223c30f5>\u001b[0m in \u001b[0;36m<cell line: 2>\u001b[0;34m()\u001b[0m\n\u001b[1;32m      1\u001b[0m \u001b[0;31m# split features and labels of train data\u001b[0m\u001b[0;34m\u001b[0m\u001b[0;34m\u001b[0m\u001b[0m\n\u001b[0;32m----> 2\u001b[0;31m \u001b[0mx_train\u001b[0m \u001b[0;34m=\u001b[0m \u001b[0mdata_frame_train\u001b[0m\u001b[0;34m[\u001b[0m\u001b[0;34m:\u001b[0m\u001b[0mlen\u001b[0m\u001b[0;34m(\u001b[0m\u001b[0mdata_frame_train\u001b[0m\u001b[0;34m)\u001b[0m\u001b[0;34m,\u001b[0m\u001b[0;34m:\u001b[0m\u001b[0;34m-\u001b[0m\u001b[0;36m1\u001b[0m\u001b[0;34m]\u001b[0m\u001b[0;34m\u001b[0m\u001b[0;34m\u001b[0m\u001b[0m\n\u001b[0m\u001b[1;32m      3\u001b[0m \u001b[0my_train\u001b[0m \u001b[0;34m=\u001b[0m \u001b[0mdata_frame_train\u001b[0m\u001b[0;34m[\u001b[0m\u001b[0;34m:\u001b[0m\u001b[0mlen\u001b[0m\u001b[0;34m(\u001b[0m\u001b[0mdata_frame_train\u001b[0m\u001b[0;34m)\u001b[0m\u001b[0;34m,\u001b[0m\u001b[0;34m-\u001b[0m\u001b[0;36m1\u001b[0m\u001b[0;34m]\u001b[0m\u001b[0;34m\u001b[0m\u001b[0;34m\u001b[0m\u001b[0m\n\u001b[1;32m      4\u001b[0m \u001b[0;34m\u001b[0m\u001b[0m\n\u001b[1;32m      5\u001b[0m \u001b[0;31m# ready test data and labels\u001b[0m\u001b[0;34m\u001b[0m\u001b[0;34m\u001b[0m\u001b[0m\n",
            "\u001b[0;31mIndexError\u001b[0m: too many indices for array: array is 1-dimensional, but 2 were indexed"
          ]
        }
      ],
      "source": [
        "# split features and labels of train data\n",
        "x_train = data_frame_train[:len(data_frame_train),:-1]\n",
        "y_train = data_frame_train[:len(data_frame_train),-1]\n",
        "\n",
        "# ready test data and labels\n",
        "x_test = features_test\n",
        "y_test = labels_test"
      ]
    },
    {
      "cell_type": "code",
      "source": [
        "from google.colab import drive\n",
        "drive.mount('/content/drive')"
      ],
      "metadata": {
        "id": "3zta6ZH45rQS"
      },
      "execution_count": null,
      "outputs": []
    },
    {
      "cell_type": "code",
      "execution_count": null,
      "metadata": {
        "id": "vAYVuNSxvE4i",
        "outputId": "5a2f3269-3cb9-4002-9796-a6abbf5730d2"
      },
      "outputs": [
        {
          "data": {
            "text/plain": [
              "SVC()"
            ]
          },
          "execution_count": 59,
          "metadata": {},
          "output_type": "execute_result"
        }
      ],
      "source": [
        "# fit the model with train set\n",
        "clf.fit(x_train,y_train)"
      ]
    },
    {
      "cell_type": "code",
      "execution_count": null,
      "metadata": {
        "id": "5VeShwNIvE4i"
      },
      "outputs": [],
      "source": [
        "# predict labels: y_pred from x_test\n",
        "y_pred = clf.predict(x_test)"
      ]
    },
    {
      "cell_type": "code",
      "execution_count": null,
      "metadata": {
        "id": "FV6fvh2kvE4i",
        "outputId": "cbb91efb-a0da-4a12-c3f3-5d4bf84c5557"
      },
      "outputs": [
        {
          "name": "stdout",
          "output_type": "stream",
          "text": [
            "              precision    recall  f1-score   support\n",
            "\n",
            "           0       0.79      0.94      0.86       200\n",
            "           1       0.93      0.74      0.83       200\n",
            "\n",
            "    accuracy                           0.84       400\n",
            "   macro avg       0.86      0.84      0.84       400\n",
            "weighted avg       0.86      0.84      0.84       400\n",
            "\n"
          ]
        }
      ],
      "source": [
        "# calculate other metrics\n",
        "print(classification_report(y_test, y_pred))\n",
        "\n",
        "# hog: (0.859375, 0.845, 0.8434343434343435, None)\n",
        "# lbp: (0.9303430011968119, 0.9225, 0.9221452744065148, None)"
      ]
    },
    {
      "cell_type": "code",
      "execution_count": null,
      "metadata": {
        "id": "SQKIW3xxvE4i",
        "outputId": "74045496-859d-4f9f-e885-ef0b05f0184a"
      },
      "outputs": [
        {
          "name": "stdout",
          "output_type": "stream",
          "text": [
            "              precision    recall  f1-score   support\n",
            "\n",
            "           0       0.87      0.99      0.93       200\n",
            "           1       0.99      0.85      0.92       200\n",
            "\n",
            "    accuracy                           0.92       400\n",
            "   macro avg       0.93      0.92      0.92       400\n",
            "weighted avg       0.93      0.92      0.92       400\n",
            "\n"
          ]
        }
      ],
      "source": [
        "print(classification_report(y_test, y_pred))"
      ]
    },
    {
      "cell_type": "code",
      "execution_count": null,
      "metadata": {
        "id": "41Dl03-0vE4j"
      },
      "outputs": [],
      "source": []
    }
  ],
  "metadata": {
    "kernelspec": {
      "display_name": "Python 3",
      "language": "python",
      "name": "python3"
    },
    "language_info": {
      "codemirror_mode": {
        "name": "ipython",
        "version": 3
      },
      "file_extension": ".py",
      "mimetype": "text/x-python",
      "name": "python",
      "nbconvert_exporter": "python",
      "pygments_lexer": "ipython3",
      "version": "3.8.5"
    },
    "colab": {
      "provenance": [],
      "include_colab_link": true
    }
  },
  "nbformat": 4,
  "nbformat_minor": 0
}